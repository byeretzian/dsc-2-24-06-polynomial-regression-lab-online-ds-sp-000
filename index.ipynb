{
 "cells": [
  {
   "cell_type": "markdown",
   "metadata": {},
   "source": [
    "# Polynomial Regression - Lab"
   ]
  },
  {
   "cell_type": "markdown",
   "metadata": {},
   "source": [
    "## Introduction"
   ]
  },
  {
   "cell_type": "markdown",
   "metadata": {},
   "source": [
    "In this lab you'll practice your knowledge on adding polynomial terms to your regression model! "
   ]
  },
  {
   "cell_type": "markdown",
   "metadata": {},
   "source": [
    "## Objectives"
   ]
  },
  {
   "cell_type": "markdown",
   "metadata": {},
   "source": [
    "You will be able to:\n",
    "\n",
    "- Understand how to account for non-linear relationships between predictors and target variable using polynomial terms"
   ]
  },
  {
   "cell_type": "markdown",
   "metadata": {},
   "source": [
    "## Create the best plot using polynomials!"
   ]
  },
  {
   "cell_type": "markdown",
   "metadata": {},
   "source": [
    "Below, we created a plot with a clearly non-linear shape.\n",
    "\n",
    "- plot a polynomial function using `PolynomialFeatures` for polynomials up until the second, third and fourth degree.\n",
    "- print out the $R^2$ value for each of the three results. Draw conclusions with respect to which degree is best."
   ]
  },
  {
   "cell_type": "code",
   "execution_count": 1,
   "metadata": {},
   "outputs": [
    {
     "data": {
      "image/png": "[encoded data removed]",
      "text/plain": [
       "<Figure size 432x288 with 1 Axes>"
      ]
     },
     "metadata": {},
     "output_type": "display_data"
    }
   ],
   "source": [
    "import numpy as np\n",
    "import matplotlib.pyplot as plt\n",
    "% matplotlib inline\n",
    "\n",
    "def pol(x):\n",
    "    return x * np.cos(x)\n",
    "\n",
    "x = np.linspace(0, 12, 100)\n",
    "rng = np.random.RandomState(1234)\n",
    "rng.shuffle(x)\n",
    "x = np.sort(x[:25])\n",
    "y = pol(x) + np.random.randn(25)*2\n",
    "\n",
    "plt.scatter(x, y, color='green', s=50, marker='.')\n",
    "\n",
    "plt.show();"
   ]
  },
  {
   "cell_type": "markdown",
   "metadata": {},
   "source": [
    "## Solution"
   ]
  },
  {
   "cell_type": "code",
   "execution_count": 28,
   "metadata": {},
   "outputs": [
    {
     "name": "stdout",
     "output_type": "stream",
     "text": [
      "[[ 0.12121212]\n",
      " [ 1.09090909]\n",
      " [ 3.27272727]\n",
      " [ 3.51515152]\n",
      " [ 4.        ]\n",
      " [ 4.24242424]\n",
      " [ 4.72727273]\n",
      " [ 4.84848485]\n",
      " [ 5.09090909]\n",
      " [ 6.18181818]\n",
      " [ 6.78787879]\n",
      " [ 7.15151515]\n",
      " [ 7.39393939]\n",
      " [ 7.63636364]\n",
      " [ 8.24242424]\n",
      " [ 8.60606061]\n",
      " [ 9.09090909]\n",
      " [ 9.81818182]\n",
      " [ 9.93939394]\n",
      " [10.3030303 ]\n",
      " [10.54545455]\n",
      " [10.66666667]\n",
      " [11.39393939]\n",
      " [11.63636364]\n",
      " [11.87878788]]\n",
      "[[ 0.12121212]\n",
      " [ 1.09090909]\n",
      " [ 3.27272727]\n",
      " [ 3.51515152]\n",
      " [ 4.        ]\n",
      " [ 4.24242424]\n",
      " [ 4.72727273]\n",
      " [ 4.84848485]\n",
      " [ 5.09090909]\n",
      " [ 6.18181818]\n",
      " [ 6.78787879]\n",
      " [ 7.15151515]\n",
      " [ 7.39393939]\n",
      " [ 7.63636364]\n",
      " [ 8.24242424]\n",
      " [ 8.60606061]\n",
      " [ 9.09090909]\n",
      " [ 9.81818182]\n",
      " [ 9.93939394]\n",
      " [10.3030303 ]\n",
      " [10.54545455]\n",
      " [10.66666667]\n",
      " [11.39393939]\n",
      " [11.63636364]\n",
      " [11.87878788]]\n"
     ]
    }
   ],
   "source": [
    "X = x[:, np.newaxis]\n",
    "print(X)\n",
    "print(x.reshape(-1,1))"
   ]
  },
  {
   "cell_type": "code",
   "execution_count": 30,
   "metadata": {},
   "outputs": [
    {
     "name": "stdout",
     "output_type": "stream",
     "text": [
      "0.006302330108726606\n",
      "0.08629064829279909\n",
      "0.7243593814187304\n"
     ]
    }
   ],
   "source": [
    "## your code here\n",
    "from sklearn.linear_model import LinearRegression\n",
    "from sklearn.preprocessing import PolynomialFeatures\n",
    "from sklearn.metrics import mean_squared_error, r2_score\n",
    "\n",
    "for index, deg in enumerate([2,3,4]):\n",
    "    poly = PolynomialFeatures(deg)\n",
    "    X_fin = poly.fit_transform(x.reshape(-1,1))\n",
    "\n",
    "    reg_poly = LinearRegression().fit(X_fin, y)\n",
    "\n",
    "    print(r2_score(y, reg_poly.predict(X_fin)))\n",
    "    \n"
   ]
  },
  {
   "cell_type": "code",
   "execution_count": null,
   "metadata": {},
   "outputs": [],
   "source": []
  },
  {
   "cell_type": "code",
   "execution_count": 15,
   "metadata": {},
   "outputs": [],
   "source": [
    "# The model with the highest R squared value is the one with degree 4."
   ]
  },
  {
   "cell_type": "markdown",
   "metadata": {},
   "source": [
    "## Summary"
   ]
  },
  {
   "cell_type": "markdown",
   "metadata": {},
   "source": [
    "Great! You now know how to include polynomials in your linear model!"
   ]
  }
 ],
 "metadata": {
  "kernelspec": {
   "display_name": "Python 3",
   "language": "python",
   "name": "python3"
  },
  "language_info": {
   "codemirror_mode": {
    "name": "ipython",
    "version": 3
   },
   "file_extension": ".py",
   "mimetype": "text/x-python",
   "name": "python",
   "nbconvert_exporter": "python",
   "pygments_lexer": "ipython3",
   "version": "3.6.5"
  }
 },
 "nbformat": 4,
 "nbformat_minor": 2
}
